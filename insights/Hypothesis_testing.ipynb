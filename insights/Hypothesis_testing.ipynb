{
 "cells": [
  {
   "cell_type": "markdown",
   "id": "f8c54f69",
   "metadata": {},
   "source": [
    "Part A : Commuter pattern\n",
    "\n",
    "Do average hourly rides (remember each row in the data is a ride) differ\n",
    "between working days and non-working days?"
   ]
  },
  {
   "cell_type": "code",
   "execution_count": null,
   "id": "549cfcea",
   "metadata": {},
   "outputs": [],
   "source": [
    "import pandas as pd\n",
    "import numpy as np \n",
    "from scipy import stats \n",
    "from statsmodels.stats.proportion import proportion_confint\n"
   ]
  },
  {
   "cell_type": "code",
   "execution_count": 3,
   "id": "e305582b",
   "metadata": {},
   "outputs": [
    {
     "name": "stdout",
     "output_type": "stream",
     "text": [
      "<class 'pandas.core.frame.DataFrame'>\n",
      "RangeIndex: 17379 entries, 0 to 17378\n",
      "Data columns (total 20 columns):\n",
      " #   Column                   Non-Null Count  Dtype  \n",
      "---  ------                   --------------  -----  \n",
      " 0   instant                  17379 non-null  int64  \n",
      " 1   dteday                   17379 non-null  object \n",
      " 2   season                   17379 non-null  int64  \n",
      " 3   mnth                     17379 non-null  int64  \n",
      " 4   hr                       17379 non-null  int64  \n",
      " 5   holiday                  17379 non-null  int64  \n",
      " 6   weekday                  17379 non-null  int64  \n",
      " 7   weathersit               17379 non-null  int64  \n",
      " 8   temp                     17379 non-null  float64\n",
      " 9   atemp                    17379 non-null  float64\n",
      " 10  hum                      17379 non-null  float64\n",
      " 11  windspeed                17379 non-null  float64\n",
      " 12  casual                   17379 non-null  int64  \n",
      " 13  registered               17379 non-null  int64  \n",
      " 14  Total_amount_of_rentals  17379 non-null  int64  \n",
      " 15  season_names             17379 non-null  object \n",
      " 16  weekday_names            17379 non-null  object \n",
      " 17  month_names              17379 non-null  object \n",
      " 18  year                     17379 non-null  int64  \n",
      " 19  time_of_day              17379 non-null  object \n",
      "dtypes: float64(4), int64(11), object(5)\n",
      "memory usage: 2.7+ MB\n"
     ]
    }
   ],
   "source": [
    "df = pd.read_csv ('/Users/Marcy_Student/Desktop/Projects /Shaping-Urban-Mobility-/data/modified_hours_dateset.csv')\n",
    "df.info()"
   ]
  },
  {
   "cell_type": "code",
   "execution_count": null,
   "id": "1e10edf5",
   "metadata": {},
   "outputs": [
    {
     "name": "stdout",
     "output_type": "stream",
     "text": [
      "weekday_names\n",
      "Friday       197.3\n",
      "Monday       186.6\n",
      "Thursday     198.7\n",
      "Tuesday      192.6\n",
      "Wednesday    190.0\n",
      "Name: Total_amount_of_rentals, dtype: float64\n",
      "Avg_rides_weekdays :  193.2\n"
     ]
    }
   ],
   "source": [
    "\n",
    "# filter for weekdays only (EXcluding the holidays )\n",
    "weekdays= ['Monday','Tuesday','Wednesday','Thursday','Friday']\n",
    "working_df= df[(df['weekday_names'].isin(weekdays))& (df['holiday'] == 0)]\n",
    "\n",
    "# Average amount of rides during the weekdays\n",
    "avg_rides_weekdays = working_df.groupby('weekday_names')['Total_amount_of_rentals'].mean().round(1)\n",
    "totalavg_working_rides = working_df['Total_amount_of_rentals'].mean().round(1)\n",
    "print(avg_rides_weekdays)\n",
    "print('Avg_rides_weekdays : ' , totalavg_working_rides)\n",
    "\n"
   ]
  },
  {
   "cell_type": "code",
   "execution_count": 5,
   "id": "832afbdd",
   "metadata": {},
   "outputs": [
    {
     "name": "stdout",
     "output_type": "stream",
     "text": [
      "non_working_rides_avg : 181.4\n"
     ]
    }
   ],
   "source": [
    "#Filter for non_working_days only \n",
    "weekends = ['Saturday', 'Sunday']\n",
    "non_working_df = df[df['weekday_names'].isin(weekends) | (df['holiday'] == 1)]\n",
    "\n",
    "# Average number of rides during the weekends \n",
    "avg_rides_non_working = non_working_df['Total_amount_of_rentals'].mean().round(1)\n",
    "print('non_working_rides_avg :',avg_rides_non_working)\n"
   ]
  },
  {
   "cell_type": "code",
   "execution_count": null,
   "id": "0b0c7604",
   "metadata": {},
   "outputs": [
    {
     "name": "stdout",
     "output_type": "stream",
     "text": [
      "t = 4.095, p = 0.0000, reject H0 @ α=0.05? True\n",
      "Group means: working_days = 193.2, non_working_days = 181.4\n"
     ]
    }
   ],
   "source": [
    "# we are going to conduct a welchs t- test since we are comparing AVG rides between non_working days and working days \n",
    "alpha = 0.05\n",
    "a = working_df['Total_amount_of_rentals']\n",
    "b = non_working_df['Total_amount_of_rentals']\n",
    "tt = stats.ttest_ind(a, b, equal_var=False)\n",
    "# we sepearate the means between the groups so its easier seen \n",
    "mean_a = a.mean().round(1)\n",
    "mean_b = b.mean().round(1)\n",
    "print(f\"t = {tt.statistic:.3f}, p = {tt.pvalue:.4f}, reject H0 @ α={alpha}? {tt.pvalue < alpha}\")\n",
    "print(f\"Group means: working_days = {mean_a}, non_working_days = {mean_b}\")\n"
   ]
  },
  {
   "cell_type": "code",
   "execution_count": null,
   "id": "8cc96f49",
   "metadata": {},
   "outputs": [
    {
     "name": "stdout",
     "output_type": "stream",
     "text": [
      "95% CI for difference in means (working - nonworking): [6.15, 17.45]\n"
     ]
    }
   ],
   "source": [
    "# Next we would look for the actual differences between the means . (confidence intervals)\n",
    "difference_between_means = mean_a - mean_b\n",
    "\n",
    "# Welches test needs standard error\n",
    "standarderror = np.sqrt(a.var(ddof=1)/len(a) + b.var(ddof=1)/len(b))\n",
    "\n",
    "# we find 95% confidence interval \n",
    "df_welch = ((a.var(ddof=1)/len(a) + b.var(ddof=1)/len(b))**2 /\n",
    "    (((a.var(ddof=1)/len(a))**2 / (len(a)-1)) +\n",
    "    ((b.var(ddof=1)/len(b))**2 /(len(b)-1))))\n",
    "\n",
    "ci_low, ci_high = stats.t.interval(0.95, df_welch, loc=difference_between_means, scale=standarderror)\n",
    "\n",
    "print(f\"95% CI for difference in means (working - nonworking): [{ci_low:.2f}, {ci_high:.2f}]\")"
   ]
  },
  {
   "cell_type": "markdown",
   "id": "3ae68d42",
   "metadata": {},
   "source": [
    "Null Hypothesis = No Difference in average hourly rides \n",
    "ALternative Hypothesis = There is a difference in average hourly rides \n",
    "\n",
    "We will reject the null hyphothesis due to there being a statitical difference between non_working rides and working_day rides . It shows that working days have a difference of 6 - 17 more rides then non_working days "
   ]
  },
  {
   "cell_type": "markdown",
   "id": "9b1550a5",
   "metadata": {},
   "source": [
    "Part B : Multi-group comparison\n",
    "\n",
    "Do mean hourly rides differ across categories of multi-level categorical variables such as season or weather condition (choose one)?"
   ]
  },
  {
   "cell_type": "code",
   "execution_count": null,
   "id": "e8018303",
   "metadata": {},
   "outputs": [
    {
     "name": "stdout",
     "output_type": "stream",
     "text": [
      "season_names\n",
      "Summer    4496\n",
      "Spring    4409\n",
      "Winter    4242\n",
      "Fall      4232\n",
      "Name: count, dtype: int64\n"
     ]
    }
   ],
   "source": [
    "# Viewing the amount of rows per season in order to answer , if i should do statified sampling.\n",
    "df['season_names'].value_counts() \n",
    "print(df['season_names'].value_counts())"
   ]
  },
  {
   "cell_type": "code",
   "execution_count": null,
   "id": "14191315",
   "metadata": {},
   "outputs": [
    {
     "name": "stdout",
     "output_type": "stream",
     "text": [
      "ANOVA F = 409.181, p = 0.0000, reject H0? True\n"
     ]
    }
   ],
   "source": [
    "# finding averages within each season \n",
    "avg_within_seasons = [df['Total_amount_of_rentals'][df['season_names'] == s] for s in df['season_names'].unique()]\n",
    "anova = stats.f_oneway(*avg_within_seasons)\n",
    "print(f\"ANOVA F = {anova.statistic:.3f}, p = {anova.pvalue:.4f}, reject H0? {anova.pvalue < alpha}\")"
   ]
  },
  {
   "cell_type": "code",
   "execution_count": 19,
   "id": "d886137b",
   "metadata": {},
   "outputs": [
    {
     "name": "stdout",
     "output_type": "stream",
     "text": [
      "   Multiple Comparison of Means - Tukey HSD, FWER=0.05   \n",
      "=========================================================\n",
      "group1 group2  meandiff p-adj    lower     upper   reject\n",
      "---------------------------------------------------------\n",
      "  Fall Spring    9.4752 0.0582   -0.2181   19.1685  False\n",
      "  Fall Summer   37.1474    0.0   27.5001   46.7946   True\n",
      "  Fall Winter  -87.7543    0.0  -97.5406   -77.968   True\n",
      "Spring Summer   27.6722    0.0   18.1252   37.2192   True\n",
      "Spring Winter  -97.2295    0.0  -106.917   -87.542   True\n",
      "Summer Winter -124.9017    0.0 -134.5431 -115.2603   True\n",
      "---------------------------------------------------------\n"
     ]
    }
   ],
   "source": [
    "# we will now do a poc-hoc test in order to circle in on the difference in which is being stated.\n",
    "# we will use the tukeys Honestly Significant Difference (HSD) : we are gonna compare all possible group means .(seasonal)\n",
    "\n",
    "from statsmodels.stats.multicomp import pairwise_tukeyhsd\n",
    "\n",
    "hourly_rides = df['Total_amount_of_rentals']\n",
    "seasons= df['season_names']\n",
    "\n",
    "tukey_results = pairwise_tukeyhsd(endog= hourly_rides, groups=seasons, alpha=alpha)\n",
    "print(tukey_results)\n"
   ]
  },
  {
   "cell_type": "markdown",
   "id": "5139916d",
   "metadata": {},
   "source": [
    "Null Hypothesis = All seasonal average hourly rides are equal \n",
    "Alternative Hypthesis = One seasonal mean has a difference. \n",
    "\n",
    "Based on the F statiics shows that the seasonal hourly rides differ within the seasons , while the tukeys test shows the differences in mean within the grouped seasons ."
   ]
  }
 ],
 "metadata": {
  "kernelspec": {
   "display_name": "data-analysis-env",
   "language": "python",
   "name": "python3"
  },
  "language_info": {
   "codemirror_mode": {
    "name": "ipython",
    "version": 3
   },
   "file_extension": ".py",
   "mimetype": "text/x-python",
   "name": "python",
   "nbconvert_exporter": "python",
   "pygments_lexer": "ipython3",
   "version": "3.9.22"
  }
 },
 "nbformat": 4,
 "nbformat_minor": 5
}
