{
 "cells": [
  {
   "cell_type": "markdown",
   "id": "c346ae94",
   "metadata": {},
   "source": [
    "Product Mangements objective: Does ridership increase on working days during early evening after launching a small app feature change (it is not necessary to know what was change to conduct the analysis)"
   ]
  },
  {
   "cell_type": "code",
   "execution_count": null,
   "id": "3b724041",
   "metadata": {},
   "outputs": [],
   "source": []
  }
 ],
 "metadata": {
  "language_info": {
   "name": "python"
  }
 },
 "nbformat": 4,
 "nbformat_minor": 5
}
